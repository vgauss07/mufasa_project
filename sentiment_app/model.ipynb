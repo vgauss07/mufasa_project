{
 "cells": [
  {
   "cell_type": "code",
   "execution_count": 16,
   "id": "ac76992b",
   "metadata": {},
   "outputs": [],
   "source": [
    "import pandas as pd\n",
    "import numpy as np\n",
    "import matplotlib.pyplot as plt"
   ]
  },
  {
   "cell_type": "code",
   "execution_count": 2,
   "id": "469e774c",
   "metadata": {},
   "outputs": [
    {
     "data": {
      "text/html": [
       "<div>\n",
       "<style scoped>\n",
       "    .dataframe tbody tr th:only-of-type {\n",
       "        vertical-align: middle;\n",
       "    }\n",
       "\n",
       "    .dataframe tbody tr th {\n",
       "        vertical-align: top;\n",
       "    }\n",
       "\n",
       "    .dataframe thead th {\n",
       "        text-align: right;\n",
       "    }\n",
       "</style>\n",
       "<table border=\"1\" class=\"dataframe\">\n",
       "  <thead>\n",
       "    <tr style=\"text-align: right;\">\n",
       "      <th></th>\n",
       "      <th>Character</th>\n",
       "      <th>Dialogue</th>\n",
       "    </tr>\n",
       "  </thead>\n",
       "  <tbody>\n",
       "    <tr>\n",
       "      <th>0</th>\n",
       "      <td>Mufasa</td>\n",
       "      <td>The Lion King</td>\n",
       "    </tr>\n",
       "    <tr>\n",
       "      <th>1</th>\n",
       "      <td>Mufasa</td>\n",
       "      <td>The Lion King</td>\n",
       "    </tr>\n",
       "    <tr>\n",
       "      <th>2</th>\n",
       "      <td>Lebo</td>\n",
       "      <td>M  ♪  'Xesha lifikile wemampondo.  Awu 'xesha ...</td>\n",
       "    </tr>\n",
       "    <tr>\n",
       "      <th>3</th>\n",
       "      <td>Lebo</td>\n",
       "      <td>M  ♪  'Xesha lifikile wemampondo.  Awu 'xesha ...</td>\n",
       "    </tr>\n",
       "    <tr>\n",
       "      <th>4</th>\n",
       "      <td>Cut</td>\n",
       "      <td>to a herd of giraffes. They begin to walk acro...</td>\n",
       "    </tr>\n",
       "  </tbody>\n",
       "</table>\n",
       "</div>"
      ],
      "text/plain": [
       "  Character                                           Dialogue\n",
       "0    Mufasa                                      The Lion King\n",
       "1    Mufasa                                      The Lion King\n",
       "2      Lebo  M  ♪  'Xesha lifikile wemampondo.  Awu 'xesha ...\n",
       "3      Lebo  M  ♪  'Xesha lifikile wemampondo.  Awu 'xesha ...\n",
       "4       Cut  to a herd of giraffes. They begin to walk acro..."
      ]
     },
     "execution_count": 2,
     "metadata": {},
     "output_type": "execute_result"
    }
   ],
   "source": [
    "data = pd.read_csv(\"/Users/rev.dr.sylviablessings/mufasa_project/data_collection/character_dialogue.csv\")\n",
    "data.head()"
   ]
  },
  {
   "cell_type": "code",
   "execution_count": 3,
   "id": "e2494703",
   "metadata": {},
   "outputs": [],
   "source": [
    "## Drop Duplicates\n",
    "data.drop_duplicates(inplace=True)"
   ]
  },
  {
   "cell_type": "code",
   "execution_count": 4,
   "id": "db4776fc",
   "metadata": {},
   "outputs": [
    {
     "data": {
      "text/html": [
       "<div>\n",
       "<style scoped>\n",
       "    .dataframe tbody tr th:only-of-type {\n",
       "        vertical-align: middle;\n",
       "    }\n",
       "\n",
       "    .dataframe tbody tr th {\n",
       "        vertical-align: top;\n",
       "    }\n",
       "\n",
       "    .dataframe thead th {\n",
       "        text-align: right;\n",
       "    }\n",
       "</style>\n",
       "<table border=\"1\" class=\"dataframe\">\n",
       "  <thead>\n",
       "    <tr style=\"text-align: right;\">\n",
       "      <th></th>\n",
       "      <th>Character</th>\n",
       "      <th>Dialogue</th>\n",
       "    </tr>\n",
       "  </thead>\n",
       "  <tbody>\n",
       "    <tr>\n",
       "      <th>0</th>\n",
       "      <td>Mufasa</td>\n",
       "      <td>The Lion King</td>\n",
       "    </tr>\n",
       "    <tr>\n",
       "      <th>2</th>\n",
       "      <td>Lebo</td>\n",
       "      <td>M  ♪  'Xesha lifikile wemampondo.  Awu 'xesha ...</td>\n",
       "    </tr>\n",
       "    <tr>\n",
       "      <th>4</th>\n",
       "      <td>Cut</td>\n",
       "      <td>to a herd of giraffes. They begin to walk acro...</td>\n",
       "    </tr>\n",
       "    <tr>\n",
       "      <th>6</th>\n",
       "      <td>Giraffes</td>\n",
       "      <td>*low*</td>\n",
       "    </tr>\n",
       "    <tr>\n",
       "      <th>8</th>\n",
       "      <td>Lebo</td>\n",
       "      <td>M  ♪  'Xesha lifikile wemampondo. Awu 'xesha l...</td>\n",
       "    </tr>\n",
       "  </tbody>\n",
       "</table>\n",
       "</div>"
      ],
      "text/plain": [
       "  Character                                           Dialogue\n",
       "0    Mufasa                                      The Lion King\n",
       "2      Lebo  M  ♪  'Xesha lifikile wemampondo.  Awu 'xesha ...\n",
       "4       Cut  to a herd of giraffes. They begin to walk acro...\n",
       "6  Giraffes                                              *low*\n",
       "8      Lebo  M  ♪  'Xesha lifikile wemampondo. Awu 'xesha l..."
      ]
     },
     "execution_count": 4,
     "metadata": {},
     "output_type": "execute_result"
    }
   ],
   "source": [
    "data.head()"
   ]
  },
  {
   "cell_type": "markdown",
   "id": "40c3d76b",
   "metadata": {},
   "source": [
    "#### Clean Dialogue Text"
   ]
  },
  {
   "cell_type": "code",
   "execution_count": 5,
   "id": "46d57988",
   "metadata": {},
   "outputs": [
    {
     "name": "stderr",
     "output_type": "stream",
     "text": [
      "[nltk_data] Downloading package punkt to\n",
      "[nltk_data]     /Users/rev.dr.sylviablessings/nltk_data...\n",
      "[nltk_data]   Package punkt is already up-to-date!\n",
      "[nltk_data] Downloading package stopwords to\n",
      "[nltk_data]     /Users/rev.dr.sylviablessings/nltk_data...\n",
      "[nltk_data]   Package stopwords is already up-to-date!\n"
     ]
    },
    {
     "data": {
      "text/plain": [
       "True"
      ]
     },
     "execution_count": 5,
     "metadata": {},
     "output_type": "execute_result"
    }
   ],
   "source": [
    "import nltk\n",
    "import string\n",
    "from nltk.corpus import stopwords\n",
    "from nltk.tokenize import word_tokenize\n",
    "\n",
    "nltk.download('punkt')\n",
    "nltk.download('stopwords')"
   ]
  },
  {
   "cell_type": "code",
   "execution_count": 6,
   "id": "ffb8fba1",
   "metadata": {},
   "outputs": [],
   "source": [
    "def clean_dialogue(text):\n",
    "    # Tokenize the text\n",
    "    words = word_tokenize(text.lower())\n",
    "\n",
    "    # Remove punctuation and stopwords\n",
    "    cleaned = [\n",
    "        word for word in words\n",
    "        if word not in string.punctuation and word not in stopwords.words('english')\n",
    "    ]\n",
    "\n",
    "    return ' '.join(cleaned)"
   ]
  },
  {
   "cell_type": "code",
   "execution_count": 9,
   "id": "538b4b40",
   "metadata": {},
   "outputs": [
    {
     "name": "stdout",
     "output_type": "stream",
     "text": [
      " xesha lifikile wemampondo awu xesha lifiki\n"
     ]
    }
   ],
   "source": [
    "import re\n",
    "\n",
    "def clean_text(text):\n",
    "    # Remove single quotes and symbols like ♪ and other non-alphanumeric characters except spaces\n",
    "    cleaned = re.sub(r\"[^\\w\\s]\", \"\", text)\n",
    "    return cleaned\n",
    "\n",
    "# Example usage\n",
    "dialogue = \"♪ 'xesha lifikile wemampondo awu 'xesha lifiki...\"\n",
    "cleaned_dialogue = clean_text(dialogue)\n",
    "print(cleaned_dialogue)\n"
   ]
  },
  {
   "cell_type": "code",
   "execution_count": 10,
   "id": "e0b4100a",
   "metadata": {},
   "outputs": [],
   "source": [
    "# make dialogue lower case\n",
    "data['Dialogue'] = data['Dialogue'].apply(clean_text)"
   ]
  },
  {
   "cell_type": "code",
   "execution_count": 13,
   "id": "fc5ea099",
   "metadata": {},
   "outputs": [
    {
     "data": {
      "text/html": [
       "<div>\n",
       "<style scoped>\n",
       "    .dataframe tbody tr th:only-of-type {\n",
       "        vertical-align: middle;\n",
       "    }\n",
       "\n",
       "    .dataframe tbody tr th {\n",
       "        vertical-align: top;\n",
       "    }\n",
       "\n",
       "    .dataframe thead th {\n",
       "        text-align: right;\n",
       "    }\n",
       "</style>\n",
       "<table border=\"1\" class=\"dataframe\">\n",
       "  <thead>\n",
       "    <tr style=\"text-align: right;\">\n",
       "      <th></th>\n",
       "      <th>Character</th>\n",
       "      <th>Dialogue</th>\n",
       "    </tr>\n",
       "  </thead>\n",
       "  <tbody>\n",
       "    <tr>\n",
       "      <th>0</th>\n",
       "      <td>Mufasa</td>\n",
       "      <td>lion king</td>\n",
       "    </tr>\n",
       "    <tr>\n",
       "      <th>2</th>\n",
       "      <td>Lebo</td>\n",
       "      <td>xesha lifikile wemampondo awu xesha lifikile ...</td>\n",
       "    </tr>\n",
       "    <tr>\n",
       "      <th>4</th>\n",
       "      <td>Cut</td>\n",
       "      <td>herd giraffes begin walk across pride lands</td>\n",
       "    </tr>\n",
       "    <tr>\n",
       "      <th>6</th>\n",
       "      <td>Giraffes</td>\n",
       "      <td>low</td>\n",
       "    </tr>\n",
       "    <tr>\n",
       "      <th>8</th>\n",
       "      <td>Lebo</td>\n",
       "      <td>xesha lifikile wemampondo awu xesha lifikile</td>\n",
       "    </tr>\n",
       "  </tbody>\n",
       "</table>\n",
       "</div>"
      ],
      "text/plain": [
       "  Character                                           Dialogue\n",
       "0    Mufasa                                          lion king\n",
       "2      Lebo   xesha lifikile wemampondo awu xesha lifikile ...\n",
       "4       Cut        herd giraffes begin walk across pride lands\n",
       "6  Giraffes                                                low\n",
       "8      Lebo      xesha lifikile wemampondo awu xesha lifikile "
      ]
     },
     "execution_count": 13,
     "metadata": {},
     "output_type": "execute_result"
    }
   ],
   "source": [
    "data.head()"
   ]
  },
  {
   "cell_type": "markdown",
   "id": "b2d962e6",
   "metadata": {},
   "source": [
    "#### Create Word Cloud"
   ]
  },
  {
   "cell_type": "code",
   "execution_count": 17,
   "id": "681531fb",
   "metadata": {},
   "outputs": [],
   "source": [
    "from wordcloud import WordCloud"
   ]
  },
  {
   "cell_type": "code",
   "execution_count": 24,
   "id": "6fab332a",
   "metadata": {},
   "outputs": [],
   "source": [
    "filtered_data = data[data['Character'].isin(['Mufasa', 'Scar'])].copy()"
   ]
  },
  {
   "cell_type": "code",
   "execution_count": 25,
   "id": "62e24acd",
   "metadata": {},
   "outputs": [],
   "source": [
    "charater_texts = filtered_data.groupby('Character')['Dialogue'].apply(lambda x: ' '.join(x)).to_dict()"
   ]
  },
  {
   "cell_type": "code",
   "execution_count": null,
   "id": "aa690019",
   "metadata": {},
   "outputs": [],
   "source": []
  },
  {
   "cell_type": "code",
   "execution_count": null,
   "id": "2316e87c",
   "metadata": {},
   "outputs": [
    {
     "ename": "NameError",
     "evalue": "name 'character_texts' is not defined",
     "output_type": "error",
     "traceback": [
      "\u001b[0;31m---------------------------------------------------------------------------\u001b[0m",
      "\u001b[0;31mNameError\u001b[0m                                 Traceback (most recent call last)",
      "Cell \u001b[0;32mIn[20], line 2\u001b[0m\n\u001b[1;32m      1\u001b[0m plt\u001b[38;5;241m.\u001b[39mfigure(figsize\u001b[38;5;241m=\u001b[39m(\u001b[38;5;241m15\u001b[39m, \u001b[38;5;241m5\u001b[39m))\n\u001b[0;32m----> 2\u001b[0m \u001b[38;5;28;01mfor\u001b[39;00m i, (character, text) \u001b[38;5;129;01min\u001b[39;00m \u001b[38;5;28menumerate\u001b[39m(\u001b[43mcharacter_texts\u001b[49m\u001b[38;5;241m.\u001b[39mitems(), \u001b[38;5;241m1\u001b[39m):\n\u001b[1;32m      3\u001b[0m     plt\u001b[38;5;241m.\u001b[39msubplot(\u001b[38;5;241m1\u001b[39m, \u001b[38;5;28mlen\u001b[39m(character_texts), i)\n\u001b[1;32m      4\u001b[0m     wc \u001b[38;5;241m=\u001b[39m WordCloud(width\u001b[38;5;241m=\u001b[39m\u001b[38;5;241m400\u001b[39m, height\u001b[38;5;241m=\u001b[39m\u001b[38;5;241m300\u001b[39m, background_color\u001b[38;5;241m=\u001b[39m\u001b[38;5;124m'\u001b[39m\u001b[38;5;124mwhite\u001b[39m\u001b[38;5;124m'\u001b[39m)\u001b[38;5;241m.\u001b[39mgenerate(text)\n",
      "\u001b[0;31mNameError\u001b[0m: name 'character_texts' is not defined"
     ]
    },
    {
     "data": {
      "text/plain": [
       "<Figure size 1500x500 with 0 Axes>"
      ]
     },
     "metadata": {},
     "output_type": "display_data"
    }
   ],
   "source": [
    "plt.figure(figsize=(15, 5))\n",
    "\n",
    "for i, (character, text) in enumerate(character_texts.items(), 1):\n",
    "    plt.subplot(1, len(character_texts), i)\n",
    "    wc = WordCloud(width=400, height=300, background_color='white').generate(text)\n",
    "    plt.imshow(wc, interpolation='bilinear')\n",
    "    plt.title(character)\n",
    "    plt.axis(\"off\")\n",
    "\n",
    "plt.tight_layout()\n",
    "plt.show()"
   ]
  },
  {
   "cell_type": "code",
   "execution_count": null,
   "id": "079ba83b",
   "metadata": {},
   "outputs": [],
   "source": []
  }
 ],
 "metadata": {
  "kernelspec": {
   "display_name": "Python 3",
   "language": "python",
   "name": "python3"
  },
  "language_info": {
   "codemirror_mode": {
    "name": "ipython",
    "version": 3
   },
   "file_extension": ".py",
   "mimetype": "text/x-python",
   "name": "python",
   "nbconvert_exporter": "python",
   "pygments_lexer": "ipython3",
   "version": "3.11.0"
  }
 },
 "nbformat": 4,
 "nbformat_minor": 5
}
